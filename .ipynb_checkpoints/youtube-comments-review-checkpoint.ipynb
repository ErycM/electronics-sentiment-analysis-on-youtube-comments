{
 "cells": [
  {
   "cell_type": "markdown",
   "id": "b6fc9554",
   "metadata": {},
   "source": [
    "# Análise de sentimento - Comentários de produtos eletrônicos do youtube"
   ]
  },
  {
   "cell_type": "markdown",
   "id": "8fb82682",
   "metadata": {},
   "source": [
    "## Levantamento dos produtos eletrônicos\n",
    "\n",
    "- Levantar uma lista de produtos a serem pesquisados e coletados\n",
    "- Lançamentos de smartphones e notebooks de 2020 à 2021\n",
    "- Estimar quantidade de produtos\n",
    "- Especificações e faixas de preços desses produtos"
   ]
  },
  {
   "cell_type": "markdown",
   "id": "4155cf65",
   "metadata": {},
   "source": [
    "## Levantamento da pesquisa e filtro dos videos\n",
    "\n",
    "- Entender qual é a melhor forma de encontrar videos relacionados aos produtos. Sugestões: produto X review ou produto x análise\n",
    "- Entender em qual região os dados devem ser pesquisados (inglês, português, etc) "
   ]
  },
  {
   "cell_type": "markdown",
   "id": "eae07f21",
   "metadata": {},
   "source": [
    "## Coleta das informações\n",
    "- Utilizar selenium para coleta de informações ou a API do youtube\n",
    "- Entender o que pode ser coletado via API e também quais são os limites\n",
    "- Designar um filtro de coleta de videos, exemplo: quantidade de visualizações e inscritos no canal\n",
    "- Designar filtro de comentários caso necessário, exemplo: Quantidade de palavras chaves ou likes"
   ]
  },
  {
   "cell_type": "markdown",
   "id": "3b7575fd",
   "metadata": {},
   "source": [
    "## Tratamento das informações\n",
    "- Coletar comentários dos vídeos de review\n",
    "- Entender outras informações importantes a serem coletadas como link, titulo, data, quantidade de visualizações, likes, etc.. "
   ]
  },
  {
   "cell_type": "markdown",
   "id": "7834bd29",
   "metadata": {},
   "source": [
    "## Treinar o modelo de classificação\n",
    "\n",
    "- Classificar comentários como positivos, negativos ou neutros\n",
    "- Treinar aplicação encontrando algum padrão específico, ferramenta ou a partir de análises manuais\n",
    "- Treinar aplicação para identificar palavras mais utilizadas e demandadas sobre modelos"
   ]
  },
  {
   "cell_type": "markdown",
   "id": "d2b25ab0",
   "metadata": {},
   "source": [
    "## Resultados da classificação do modelo\n",
    "\n",
    "- Entender se existe alguma relação entre celulares mais populares vs mais bem avaliados\n",
    "- Entender se existe funcionalidades específicas que são preferidas entre os usuários\n",
    "- Entender se existe prefência do público sobre marcas\n",
    "- Entenderf se existe problemas iguais entre produtos de mesma faixa de preço"
   ]
  },
  {
   "cell_type": "code",
   "execution_count": null,
   "id": "ad936fa9",
   "metadata": {},
   "outputs": [],
   "source": []
  }
 ],
 "metadata": {
  "kernelspec": {
   "display_name": "Python 3",
   "language": "python",
   "name": "python3"
  },
  "language_info": {
   "codemirror_mode": {
    "name": "ipython",
    "version": 3
   },
   "file_extension": ".py",
   "mimetype": "text/x-python",
   "name": "python",
   "nbconvert_exporter": "python",
   "pygments_lexer": "ipython3",
   "version": "3.8.8"
  }
 },
 "nbformat": 4,
 "nbformat_minor": 5
}
