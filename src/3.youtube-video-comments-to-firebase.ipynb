{
 "cells": [
  {
   "cell_type": "markdown",
   "source": [
    "# Análise de sentimento - Comentários de produtos eletrônicos do youtube - Armazenamento no Firebase"
   ],
   "metadata": {}
  },
  {
   "cell_type": "code",
   "execution_count": 13,
   "source": [
    "#!pip install python-time --force-reinstall\r\n",
    "import pandas as pd\r\n",
    "import time\r\n",
    "import numpy as np"
   ],
   "outputs": [],
   "metadata": {
    "tags": []
   }
  },
  {
   "cell_type": "code",
   "execution_count": 14,
   "source": [
    "videos_comments_data = pd.read_csv(\"src/video_comments.csv\", sep=\",\") \r\n",
    "#videos_comments_data = videos_comments_data.sample(n=10000)\r\n",
    "videos_comments_data.info()"
   ],
   "outputs": [
    {
     "output_type": "stream",
     "name": "stdout",
     "text": [
      "<class 'pandas.core.frame.DataFrame'>\n",
      "RangeIndex: 26463 entries, 0 to 26462\n",
      "Data columns (total 13 columns):\n",
      " #   Column               Non-Null Count  Dtype \n",
      "---  ------               --------------  ----- \n",
      " 0   video-id             26463 non-null  object\n",
      " 1   video-title          26463 non-null  object\n",
      " 2   video-link           26463 non-null  object\n",
      " 3   video-likes          26463 non-null  int64 \n",
      " 4   video-views          26463 non-null  int64 \n",
      " 5   video-date           26463 non-null  object\n",
      " 6   video-channel        26463 non-null  object\n",
      " 7   video-comment-count  26463 non-null  int64 \n",
      " 8   comment-id           26463 non-null  object\n",
      " 9   comment-author       26463 non-null  object\n",
      " 10  comment-date         26463 non-null  object\n",
      " 11  comment              26463 non-null  object\n",
      " 12  comment-likes        26463 non-null  int64 \n",
      "dtypes: int64(4), object(9)\n",
      "memory usage: 2.6+ MB\n"
     ]
    }
   ],
   "metadata": {}
  },
  {
   "cell_type": "code",
   "execution_count": 16,
   "source": [
    "videos_comments_data = videos_comments_data[['comment-id','comment-date','comment-author','comment','comment-likes','video-id','video-title','video-date','video-link','video-likes','video-views','video-channel','video-comment-count']]\r\n",
    "videos_comments_data.info()"
   ],
   "outputs": [
    {
     "output_type": "stream",
     "name": "stdout",
     "text": [
      "<class 'pandas.core.frame.DataFrame'>\n",
      "RangeIndex: 26463 entries, 0 to 26462\n",
      "Data columns (total 13 columns):\n",
      " #   Column               Non-Null Count  Dtype \n",
      "---  ------               --------------  ----- \n",
      " 0   comment-id           26463 non-null  object\n",
      " 1   comment-date         26463 non-null  object\n",
      " 2   comment-author       26463 non-null  object\n",
      " 3   comment              26463 non-null  object\n",
      " 4   comment-likes        26463 non-null  int64 \n",
      " 5   video-id             26463 non-null  object\n",
      " 6   video-title          26463 non-null  object\n",
      " 7   video-date           26463 non-null  object\n",
      " 8   video-link           26463 non-null  object\n",
      " 9   video-likes          26463 non-null  int64 \n",
      " 10  video-views          26463 non-null  int64 \n",
      " 11  video-channel        26463 non-null  object\n",
      " 12  video-comment-count  26463 non-null  int64 \n",
      "dtypes: int64(4), object(9)\n",
      "memory usage: 2.6+ MB\n"
     ]
    }
   ],
   "metadata": {}
  },
  {
   "cell_type": "code",
   "execution_count": 19,
   "source": [
    "videos_comments_data.head()\r\n",
    "#pd.DataFrame(videos_comments_data).to_csv(\"video_comments.csv\", index=False) "
   ],
   "outputs": [
    {
     "output_type": "execute_result",
     "data": {
      "text/plain": [
       "                   comment-id          comment-date  \\\n",
       "0  Ugz2AAHe8qIDTKZ2Y5Z4AaABAg  2020-01-14T22:49:48Z   \n",
       "1  UgxAa50iGStSrk2VYhB4AaABAg  2021-07-08T15:54:55Z   \n",
       "2  Ugz9xxNZYOg4cpH7iRd4AaABAg  2021-07-07T22:40:24Z   \n",
       "3  UgzodY2ZXlu67XefqaF4AaABAg  2021-06-26T23:46:05Z   \n",
       "4  UgxH-4rMPP0bCXPOcld4AaABAg  2021-06-18T19:29:08Z   \n",
       "\n",
       "                            comment-author  \\\n",
       "0                              TudoCelular   \n",
       "1                                   Sonoro   \n",
       "2  Aucilene Rodrigues dos Santos Rodrigues   \n",
       "3                            Lailton Moura   \n",
       "4             Joaquim Lopes - Curiosidades   \n",
       "\n",
       "                                             comment  comment-likes  \\\n",
       "0  Compraria o Galaxy A10s? Ou prefere algum dos ...            155   \n",
       "1  Sou mais esse fone do que aqueles que coloca l...              0   \n",
       "2            Eu prefiro a10s que os outros celular .              0   \n",
       "3  Pessoal quando vcs conecta o carregador aparec...              0   \n",
       "4  Tenho um a10s e me surpreendeu por suas config...              1   \n",
       "\n",
       "      video-id                                        video-title  \\\n",
       "0  h9lBf0X_xFY  SAMSUNG GALAXY A10s: o básico que é quase BOM ...   \n",
       "1  h9lBf0X_xFY  SAMSUNG GALAXY A10s: o básico que é quase BOM ...   \n",
       "2  h9lBf0X_xFY  SAMSUNG GALAXY A10s: o básico que é quase BOM ...   \n",
       "3  h9lBf0X_xFY  SAMSUNG GALAXY A10s: o básico que é quase BOM ...   \n",
       "4  h9lBf0X_xFY  SAMSUNG GALAXY A10s: o básico que é quase BOM ...   \n",
       "\n",
       "             video-date                                   video-link  \\\n",
       "0  2020-01-14T22:49:21Z  https://www.youtube.com/watch?v=h9lBf0X_xFY   \n",
       "1  2020-01-14T22:49:21Z  https://www.youtube.com/watch?v=h9lBf0X_xFY   \n",
       "2  2020-01-14T22:49:21Z  https://www.youtube.com/watch?v=h9lBf0X_xFY   \n",
       "3  2020-01-14T22:49:21Z  https://www.youtube.com/watch?v=h9lBf0X_xFY   \n",
       "4  2020-01-14T22:49:21Z  https://www.youtube.com/watch?v=h9lBf0X_xFY   \n",
       "\n",
       "   video-likes  video-views video-channel  video-comment-count  \n",
       "0         9324       264074   TudoCelular                  881  \n",
       "1         9324       264074   TudoCelular                  881  \n",
       "2         9324       264074   TudoCelular                  881  \n",
       "3         9324       264074   TudoCelular                  881  \n",
       "4         9324       264074   TudoCelular                  881  "
      ],
      "text/html": [
       "<div>\n",
       "<style scoped>\n",
       "    .dataframe tbody tr th:only-of-type {\n",
       "        vertical-align: middle;\n",
       "    }\n",
       "\n",
       "    .dataframe tbody tr th {\n",
       "        vertical-align: top;\n",
       "    }\n",
       "\n",
       "    .dataframe thead th {\n",
       "        text-align: right;\n",
       "    }\n",
       "</style>\n",
       "<table border=\"1\" class=\"dataframe\">\n",
       "  <thead>\n",
       "    <tr style=\"text-align: right;\">\n",
       "      <th></th>\n",
       "      <th>comment-id</th>\n",
       "      <th>comment-date</th>\n",
       "      <th>comment-author</th>\n",
       "      <th>comment</th>\n",
       "      <th>comment-likes</th>\n",
       "      <th>video-id</th>\n",
       "      <th>video-title</th>\n",
       "      <th>video-date</th>\n",
       "      <th>video-link</th>\n",
       "      <th>video-likes</th>\n",
       "      <th>video-views</th>\n",
       "      <th>video-channel</th>\n",
       "      <th>video-comment-count</th>\n",
       "    </tr>\n",
       "  </thead>\n",
       "  <tbody>\n",
       "    <tr>\n",
       "      <th>0</th>\n",
       "      <td>Ugz2AAHe8qIDTKZ2Y5Z4AaABAg</td>\n",
       "      <td>2020-01-14T22:49:48Z</td>\n",
       "      <td>TudoCelular</td>\n",
       "      <td>Compraria o Galaxy A10s? Ou prefere algum dos ...</td>\n",
       "      <td>155</td>\n",
       "      <td>h9lBf0X_xFY</td>\n",
       "      <td>SAMSUNG GALAXY A10s: o básico que é quase BOM ...</td>\n",
       "      <td>2020-01-14T22:49:21Z</td>\n",
       "      <td>https://www.youtube.com/watch?v=h9lBf0X_xFY</td>\n",
       "      <td>9324</td>\n",
       "      <td>264074</td>\n",
       "      <td>TudoCelular</td>\n",
       "      <td>881</td>\n",
       "    </tr>\n",
       "    <tr>\n",
       "      <th>1</th>\n",
       "      <td>UgxAa50iGStSrk2VYhB4AaABAg</td>\n",
       "      <td>2021-07-08T15:54:55Z</td>\n",
       "      <td>Sonoro</td>\n",
       "      <td>Sou mais esse fone do que aqueles que coloca l...</td>\n",
       "      <td>0</td>\n",
       "      <td>h9lBf0X_xFY</td>\n",
       "      <td>SAMSUNG GALAXY A10s: o básico que é quase BOM ...</td>\n",
       "      <td>2020-01-14T22:49:21Z</td>\n",
       "      <td>https://www.youtube.com/watch?v=h9lBf0X_xFY</td>\n",
       "      <td>9324</td>\n",
       "      <td>264074</td>\n",
       "      <td>TudoCelular</td>\n",
       "      <td>881</td>\n",
       "    </tr>\n",
       "    <tr>\n",
       "      <th>2</th>\n",
       "      <td>Ugz9xxNZYOg4cpH7iRd4AaABAg</td>\n",
       "      <td>2021-07-07T22:40:24Z</td>\n",
       "      <td>Aucilene Rodrigues dos Santos Rodrigues</td>\n",
       "      <td>Eu prefiro a10s que os outros celular .</td>\n",
       "      <td>0</td>\n",
       "      <td>h9lBf0X_xFY</td>\n",
       "      <td>SAMSUNG GALAXY A10s: o básico que é quase BOM ...</td>\n",
       "      <td>2020-01-14T22:49:21Z</td>\n",
       "      <td>https://www.youtube.com/watch?v=h9lBf0X_xFY</td>\n",
       "      <td>9324</td>\n",
       "      <td>264074</td>\n",
       "      <td>TudoCelular</td>\n",
       "      <td>881</td>\n",
       "    </tr>\n",
       "    <tr>\n",
       "      <th>3</th>\n",
       "      <td>UgzodY2ZXlu67XefqaF4AaABAg</td>\n",
       "      <td>2021-06-26T23:46:05Z</td>\n",
       "      <td>Lailton Moura</td>\n",
       "      <td>Pessoal quando vcs conecta o carregador aparec...</td>\n",
       "      <td>0</td>\n",
       "      <td>h9lBf0X_xFY</td>\n",
       "      <td>SAMSUNG GALAXY A10s: o básico que é quase BOM ...</td>\n",
       "      <td>2020-01-14T22:49:21Z</td>\n",
       "      <td>https://www.youtube.com/watch?v=h9lBf0X_xFY</td>\n",
       "      <td>9324</td>\n",
       "      <td>264074</td>\n",
       "      <td>TudoCelular</td>\n",
       "      <td>881</td>\n",
       "    </tr>\n",
       "    <tr>\n",
       "      <th>4</th>\n",
       "      <td>UgxH-4rMPP0bCXPOcld4AaABAg</td>\n",
       "      <td>2021-06-18T19:29:08Z</td>\n",
       "      <td>Joaquim Lopes - Curiosidades</td>\n",
       "      <td>Tenho um a10s e me surpreendeu por suas config...</td>\n",
       "      <td>1</td>\n",
       "      <td>h9lBf0X_xFY</td>\n",
       "      <td>SAMSUNG GALAXY A10s: o básico que é quase BOM ...</td>\n",
       "      <td>2020-01-14T22:49:21Z</td>\n",
       "      <td>https://www.youtube.com/watch?v=h9lBf0X_xFY</td>\n",
       "      <td>9324</td>\n",
       "      <td>264074</td>\n",
       "      <td>TudoCelular</td>\n",
       "      <td>881</td>\n",
       "    </tr>\n",
       "  </tbody>\n",
       "</table>\n",
       "</div>"
      ]
     },
     "metadata": {},
     "execution_count": 19
    }
   ],
   "metadata": {}
  },
  {
   "cell_type": "code",
   "execution_count": 28,
   "source": [
    "videos_comments_data = videos_comments_data[videos_comments_data['comment'].str.len() > 20]"
   ],
   "outputs": [],
   "metadata": {}
  },
  {
   "cell_type": "code",
   "execution_count": 29,
   "source": [
    "videos_comments_data = videos_comments_data.sample(n=10000)"
   ],
   "outputs": [],
   "metadata": {}
  },
  {
   "cell_type": "code",
   "execution_count": 30,
   "source": [
    "videos_comments_data.count()"
   ],
   "outputs": [
    {
     "output_type": "execute_result",
     "data": {
      "text/plain": [
       "comment-id             10000\n",
       "comment-date           10000\n",
       "comment-author         10000\n",
       "comment                10000\n",
       "comment-likes          10000\n",
       "video-id               10000\n",
       "video-title            10000\n",
       "video-date             10000\n",
       "video-link             10000\n",
       "video-likes            10000\n",
       "video-views            10000\n",
       "video-channel          10000\n",
       "video-comment-count    10000\n",
       "dtype: int64"
      ]
     },
     "metadata": {},
     "execution_count": 30
    }
   ],
   "metadata": {}
  },
  {
   "cell_type": "code",
   "execution_count": 31,
   "source": [
    "#videos_comments_data = pd.read_csv(\"video_comments.csv\", sep=\",\") \r\n",
    "commentid = []\r\n",
    "\r\n",
    "for idx,comment_id in enumerate(videos_comments_data['comment-id']):\r\n",
    "    commentid.append(str(idx)+\".\"+str(comment_id))\r\n",
    "\r\n",
    "videos_comments_data['comment-id'] = commentid\r\n",
    "\r\n",
    "#pd.DataFrame(videos_comments_data).to_csv(\"video_comments.csv\", index=False)"
   ],
   "outputs": [],
   "metadata": {}
  },
  {
   "cell_type": "code",
   "execution_count": 32,
   "source": [
    "pd.DataFrame(videos_comments_data).to_csv(\"src/video_comments.csv\", index=False)"
   ],
   "outputs": [],
   "metadata": {}
  },
  {
   "cell_type": "code",
   "execution_count": 33,
   "source": [
    "#videos_comments_data = pd.read_csv(\"video_comments.csv\", sep=\",\") \r\n",
    "\r\n",
    "video_comments_count = []\r\n",
    "\r\n",
    "for idx,comment_id in enumerate(videos_comments_data['comment-id']):\r\n",
    "    #ct_id = {\r\n",
    "    #    \"comment-id\": comment_id,\r\n",
    "    #    \"count\": 0\r\n",
    "    #}\r\n",
    "\r\n",
    "    video_comments_count.append([\"|\"+comment_id,100000])\r\n",
    "\r\n",
    "\r\n",
    "#print(video_comments_count)\r\n",
    "pd.DataFrame(video_comments_count).to_csv(\"src/video_comments-count.txt\", index=False, header=None)"
   ],
   "outputs": [],
   "metadata": {}
  }
 ],
 "metadata": {
  "kernelspec": {
   "name": "python3",
   "display_name": "Python 3.8.8 64-bit ('base': conda)"
  },
  "language_info": {
   "codemirror_mode": {
    "name": "ipython",
    "version": 3
   },
   "file_extension": ".py",
   "mimetype": "text/x-python",
   "name": "python",
   "nbconvert_exporter": "python",
   "pygments_lexer": "ipython3",
   "version": "3.8.8"
  },
  "interpreter": {
   "hash": "e049b45738c4749feec37a8215276347ba84459169ad7790684fdcca7413c3f2"
  }
 },
 "nbformat": 4,
 "nbformat_minor": 5
}