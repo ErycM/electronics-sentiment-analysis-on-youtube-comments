{
 "cells": [
  {
   "cell_type": "markdown",
   "source": [
    "# Análise de sentimento - Comentários de produtos eletrônicos do youtube - Coleta de dados"
   ],
   "metadata": {}
  },
  {
   "cell_type": "code",
   "execution_count": 1,
   "source": [
    "from selenium import webdriver\r\n",
    "from webdriver_manager.chrome import ChromeDriverManager\r\n",
    "from time import sleep\r\n",
    "import pandas as pd\r\n",
    "from tqdm import tqdm\r\n",
    "from datetime import datetime"
   ],
   "outputs": [],
   "metadata": {}
  },
  {
   "cell_type": "code",
   "execution_count": 205,
   "source": [
    "driver = webdriver.Chrome(ChromeDriverManager().install())\r\n",
    "eletronics = [\"Samsung Galaxy A10s\",\"Moto E7\",\"LG K22\",\"Xiaomi Redmi 9\",\"Philco Hit Max\",\"Motorola Moto G9 Power\",\"Samsung Galaxy M31\",\"Motorola One Fusion Plus\",\"Samsung Galaxy A71\",\"Poco X3 NFC\",\"Redmi Note 9S\",\"Samsung Galaxy M51\",\"Samsung Galaxy Note 10 Lite\",\"Xiaomi Mi 10 Lite 5G\",\"LG Velvet\",\"iPhone SE\",\"Samsung Galaxy Note 10\",\"Samsung Galaxy S20\",\"Galaxy S20 FE\",\"Xiaomi Mi 10T Lite\",\"Motorola Edge/Edge+\",\"iPhone 12\",\"ASUS ROG Phone 3\",\"Galaxy S21 Ultra\",\"Xiaomi Mi 10T/10T Pro\",\"Galaxy Z Fold 2\"]"
   ],
   "outputs": [],
   "metadata": {}
  },
  {
   "cell_type": "code",
   "execution_count": 206,
   "source": [
    "driver.get(\"https://www.youtube.com/\")\r\n",
    "driver.maximize_window()\r\n"
   ],
   "outputs": [],
   "metadata": {}
  },
  {
   "cell_type": "code",
   "execution_count": 210,
   "source": [
    "def get_all_video_links(driver, search_name):\r\n",
    "    job_name = driver.find_element_by_name(\"search_query\")\r\n",
    "    job_name.send_keys(search_name)\r\n",
    "    time.sleep(1)\r\n",
    "    job_name.send_keys(Keys.ENTER)\r\n",
    "    time.sleep(2.5)\r\n",
    "\r\n",
    "    #filter = driver.find_element_by_id(\"filter-menu\")\r\n",
    "    #time.sleep(1)\r\n",
    "\r\n",
    "    #filter.find_elements_by_css_selector(\"ytd-toggle-button-renderer.ytd-search-sub-menu-renderer\")[0].click()\r\n",
    "\r\n",
    "    #time.sleep(1)\r\n",
    "    #view_count = filter.find_elements_by_css_selector(\"ytd-search-filter-group-renderer.ytd-search-sub-menu-renderer\")[4].find_elements_by_css_selector(\"yt-formatted-string.ytd-search-filter-renderer\")[2]\r\n",
    "    #view_count.click()\r\n",
    "    #time.sleep(1)\r\n",
    "\r\n",
    "    youtube_videos = driver.find_elements_by_css_selector(\"ytd-video-renderer.ytd-item-section-renderer\")\r\n",
    "\r\n",
    "    array_videos = []\r\n",
    "\r\n",
    "    for video in youtube_videos:\r\n",
    "        print(video.find_element_by_id(\"video-title\").text)\r\n",
    "        print(\"------------------------------------------\")\r\n",
    "        dic_video = {\r\n",
    "            \"video-title\": video.find_element_by_id(\"video-title\").text,\r\n",
    "            \"video-link\": video.find_element_by_id(\"video-title\").get_attribute(\"href\"),\r\n",
    "            \"video-views\": video.find_element_by_id(\"metadata-line\").text.split(\"\\n\")[0],\r\n",
    "            \"video-date\": video.find_element_by_id(\"metadata-line\").text.split(\"\\n\")[1],\r\n",
    "            \"video-channel\": video.find_element_by_id(\"channel-info\").text\r\n",
    "        }\r\n",
    "        array_videos.append(dic_video)\r\n",
    "\r\n",
    "    job_name.clear()\r\n",
    "\r\n",
    "    return array_videos\r\n",
    "    "
   ],
   "outputs": [],
   "metadata": {}
  },
  {
   "cell_type": "code",
   "execution_count": 211,
   "source": [
    "videos_comments_data = []\r\n",
    "\r\n",
    "for eletro in eletronics:\r\n",
    "    videos_comments_data = videos_comments_data + get_all_video_links(driver, eletro+\" analise\")\r\n",
    "    time.sleep(1)\r\n",
    "    \r\n",
    "print(videos_comments_data)\r\n",
    "\r\n"
   ],
   "outputs": [
    {
     "output_type": "stream",
     "name": "stdout",
     "text": [
      "isualizações', 'video-date': 'há 5 meses', 'video-channel': 'Matheus Kise'}, {'video-title': 'RoG Phone 3 REVIEW: o celular gamer OVERKILL da ASUS no Brasil', 'video-link': 'https://www.youtube.com/watch?v=VsNiKufvV7o', 'video-views': '40 mil visualizações', 'video-date': 'há 8 meses', 'video-channel': 'TecMundo'}, {'video-title': 'ASUS ROG PHONE 3 ainda é o MELHOR CELULAR GAMER no Brasil | Análise / Review', 'video-link': 'https://www.youtube.com/watch?v=eAUL3_ufgh8', 'video-views': '18 mil visualizações', 'video-date': 'há 3 meses', 'video-channel': 'TudoCelular'}, {'video-title': 'ASUS ROG PHONE 3: MELHOR CELULAR para JOGOS ganha um SUCESSOR | Hands-on', 'video-link': 'https://www.youtube.com/watch?v=pWDtQqeL688', 'video-views': '52 mil visualizações', 'video-date': 'há 11 meses', 'video-channel': 'TudoCelular'}, {'video-title': 'ROG PHONE 3! JOGANDO com o SMARTPHONE MAIS POTENTE do MUNDO! É de CAIR o QUEIXO! TELA de 144hz!', 'video-link': 'https://www.youtube.com/watch?v=T_HXPm8RwwI', 'video-views': '173 mil visualizações', 'video-date': 'há 11 meses', 'video-channel': 'Be!Tech'}, {'video-title': 'TODA A VERDADE do Asus ROG Phone 3🔥MEGA Unboxing Análise Review', 'video-link': 'https://www.youtube.com/watch?v=XiEyfA36FxU', 'video-views': '11 mil visualizações', 'video-date': 'há 10 meses', 'video-channel': 'Tiago Ramos'}, {'video-title': 'Asus Rog Phone 3 Análise Completa 😱', 'video-link': 'https://www.youtube.com/watch?v=JMpBhXtwHXk', 'video-views': '493 visualizações', 'video-date': 'há 11 meses', 'video-channel': 'Tech Sousa'}, {'video-title': 'Asus ROG phone 3 análise completa como nunca vista.', 'video-link': 'https://www.youtube.com/watch?v=1-nMj2IWq4E', 'video-views': '427 visualizações', 'video-date': 'há 10 meses', 'video-channel': 'BLF TECH'}, {'video-title': 'ROG Phone: o smartphone gamer da ASUS [Análise / Review]', 'video-link': 'https://www.youtube.com/watch?v=AqpQjThAYtU', 'video-views': '85 mil visualizações', 'video-date': 'há 2 anos', 'video-channel': 'Canaltech'}, {'video-title': 'ROG PHONE 3: UNBOXING DO SMARTPHONE MAIS PODEROSO DE 2020!', 'video-link': 'https://www.youtube.com/watch?v=TdALKXTVZRU', 'video-views': '941 mil visualizações', 'video-date': 'há 11 meses', 'video-channel': 'Loop Infinito'}, {'video-title': 'Review ROG PHONE 3, ponto de vista de um jogador', 'video-link': 'https://www.youtube.com/watch?v=KiVfFHFudTM', 'video-views': '7 mil visualizações', 'video-date': 'há 5 meses', 'video-channel': 'Isaias Aquino'}, {'video-title': 'Os MONSTROS da ASUS! ROG PHONE 3 vs ROG PHONE 2! VALE a PENA o UPGRADE!?', 'video-link': 'https://www.youtube.com/watch?v=FhAO37t4dNk', 'video-views': '46 mil visualizações', 'video-date': 'há 8 meses', 'video-channel': 'Be!Tech'}, {'video-title': 'ROG Phone 3: conheça o celular mais rápido do mundo!', 'video-link': 'https://www.youtube.com/watch?v=zBVZFp7ZsRU', 'video-views': '7,3 mil visualizações', 'video-date': 'há 8 meses', 'video-channel': 'ASUS Fanáticos'}, {'video-title': 'ASUS ROG PHONE 3 - SERÁ QUE AS CÂMERAS SÃO BOAS TAMBÉM?', 'video-link': 'https://www.youtube.com/watch?v=tVoYzGgmk0w', 'video-views': '6,9 mil visualizações', 'video-date': 'há 5 meses', 'video-channel': 'Rodrigo Portella'}, {'video-title': 'ROG PHONE 3 vs LEGION PHONE DUEL: qual é o MELHOR CELULAR GAMER do Brasil? | Comparativo', 'video-link': 'https://www.youtube.com/watch?v=HyT1S0rZhoc', 'video-views': '10 mil visualizações', 'video-date': 'há 2 meses', 'video-channel': 'TudoCelular'}, {'video-title': 'TOP 3 MELHORIAS do ROG Phone 3 vs ROG Phone 2 | Análise e Unbox', 'video-link': 'https://www.youtube.com/watch?v=YhygI4icH_Q', 'video-views': '29 mil visualizações', 'video-date': 'há 10 meses', 'video-channel': 'Montalvão'}, {'video-title': 'ROG PHONE 5: ASUS ainda possui o MELHOR CELULAR GAMER? | Análise / Review', 'video-link': 'https://www.youtube.com/watch?v=z-bqMfbtgo0', 'video-views': '11 mil visualizações', 'video-date': 'há 3 semanas', 'video-channel': 'TudoCelular'}, {'video-title': 'ANÁLISE ROG PHONE II- O MELHOR smartphone para jogos no MUNDO', 'video-link': 'https://www.youtube.com/watch?v=2iBlphmGMVw', 'video-views': '13 mil visualizações', 'video-date': 'há 1 ano', 'video-channel': 'Oficina da Net'}, {'video-title': 'Testamos o ROG Phone 3: Unboxing e primeiras impressões', 'video-link': 'https://www.youtube.com/watch?v=y63TkZvuWqs', 'video-views': '17 mil visualizações', 'video-date': 'há 11 meses', 'video-channel': 'Mundo Conectado'}, {'video-title': 'ROG PHONE 3! O novo MONSTRO da ASUS tá na MÃO! 16GB de RAM e SNAPDRAGON 865 PLUS!', 'video-link': 'https://www.youtube.com/watch?v=5OPMnkJAytw', 'video-views': '87 mil visualizações', 'video-date': 'há 11 meses', 'video-channel': 'Be!Tech'}, {'video-title': 'REVIEW SINCERO ROG PHONE 3: venha conhecer as funcionalidades do smartphone mais potente de 2020', 'video-link': 'https://www.youtube.com/watch?v=hnTj1kWgo_4', 'video-views': '1,2 mil visualizações', 'video-date': 'há 6 meses', 'video-channel': 'FMX CoDM'}, {'video-title': 'Galaxy S21 Ultra: a Samsung ACERTOU no ZOOM dessa vez [Análise/Review]', 'video-link': 'https://www.youtube.com/watch?v=_txy5ouAG6s', 'video-views': '440 mil visualizações', 'video-date': 'há 4 meses', 'video-channel': 'Canaltech'}, {'video-title': 'Review GALAXY S21 ULTRA! Agora sim a SAMSUNG fez o que DEVERIA ter FEITO! Análise completa!', 'video-link': 'https://www.youtube.com/watch?v=6LwYbm71AJM', 'video-views': '90 mil visualizações', 'video-date': 'há 2 meses', 'video-channel': 'Be!Tech'}, {'video-title': 'Samsung Galaxy S21 Ultra REVIEW: o celular Android MAIS COMPLETO do mercado – TecMundo', 'video-link': 'https://www.youtube.com/watch?v=TLZBUC-qieY', 'video-views': '63 mil visualizações', 'video-date': 'há 4 meses', 'video-channel': 'TecMundo'}, {'video-title': 'SAMSUNG GALAXY S21 ULTRA! O que GOSTEI e NÃO Gostei! Review, [análise]', 'video-link': 'https://www.youtube.com/watch?v=ragml8eCBGk', 'video-views': '106 mil visualizações', 'video-date': 'há 4 meses', 'video-channel': 'Dudu Rocha'}, {'video-title': 'Na boa, o GALAXY S21 ULTRA faz sentido? minha OPINIÃO SINCERA! 😱 // Análise', 'video-link': 'https://www.youtube.com/watch?v=HmE-RlaaIl8', 'video-views': '82 mil visualizações', 'video-date': 'há 4 meses', 'video-channel': 'EscolhaSegura'}, {'video-title': 'Samsung Galaxy S21 Ultra - Review Tecnoblog', 'video-link': 'https://www.youtube.com/watch?v=Cyk-tDl3NNM', 'video-views': '58 mil visualizações', 'video-date': 'há 4 meses', 'video-channel': 'Tecnoblog'}, {'video-title': 'GALAXY S21 ULTRA: TOP com MELHOR BATERIA esbarra em FALHAS da ONE UI | Análise / Review', 'video-link': 'https://www.youtube.com/watch?v=CEx_F8gTp68', 'video-views': '37 mil visualizações', 'video-date': 'há 4 meses', 'video-channel': 'TudoCelular'}, {'video-title': 'GALAXY S21 ULTRA é EXTRAORDINÁRIO em cada detalhe? UNBOXING e COMENTÁRIOS', 'video-link': 'https://www.youtube.com/watch?v=Zgopyc5Y6wY', 'video-views': '142 mil visualizações', 'video-date': 'há 5 meses', 'video-channel': 'Matheus Kise'}, {'video-title': 'SAMSUNG GALAXY S21 ULTRA (Review DEFINITIVO)', 'video-link': 'https://www.youtube.com/watch?v=XnTB0vK5kr4', 'video-views': '33 mil visualizações', 'video-date': 'há 4 meses', 'video-channel': 'Tech Nerd'}, {'video-title': 'Análise do Samsung GALAXY S21 ULTRA: tela INCRÍVEL e câmeras para TODAS AS SITUAÇÕES', 'video-link': 'https://www.youtube.com/watch?v=xOWCDGqvFas', 'video-views': '13 mil visualizações', 'video-date': 'há 3 semanas', 'video-channel': 'Mundo Conectado'}, {'video-title': 'O Melhor do melhor? - Galaxy S21 Ultra', 'video-link': 'https://www.youtube.com/watch?v=j2ZP5kY63Zc', 'video-views': '1 mi de visualizações', 'video-date': 'há 3 meses', 'video-channel': 'Coisa de Nerd'}, {'video-title': 'GALAXY S21 ULTRA | Vale Pagar MUITO para TER O MELHOR? Análise / Review', 'video-link': 'https://www.youtube.com/watch?v=m-Gwqx2DkPQ', 'video-views': '12 mil visualizações', 'video-date': 'há 2 meses', 'video-channel': 'brasiliGEEKS'}, {'video-title': 'USO REAL ☀️do GALAXY S21 ULTRA na última semana // OPINIÃO', 'video-link': 'https://www.youtube.com/watch?v=ELMiQB2uvho', 'video-views': '75 mil visualizações', 'video-date': 'há 4 meses', 'video-channel': 'EscolhaSegura'}, {'video-title': 'MOOOOONSTRO ! Tá na MÃO o mais TOP da SAMSUNG 😎 Galaxy S21 Ultra', 'video-link': 'https://www.youtube.com/watch?v=K_kHYy7lRJc', 'video-views': '415 mil visualizações', 'video-date': 'há 4 meses', 'video-channel': 'K Tech'}, {'video-title': 'Galaxy S21 Ultra vs iPhone 12 Pro Max, o melhor APPLE vs o melhor SAMSUNG [Comparativo]', 'video-link': 'https://www.youtube.com/watch?v=_zJ5bM2SjJI', 'video-views': '947 mil visualizações', 'video-date': 'há 4 meses', 'video-channel': 'Canaltech'}, {'video-title': 'SIMPLESMENTE O MELHOR! SAMSUNG GALAXY S21 ULTRA 5G! Unboxing e Review Inicial PT-BR', 'video-link': 'https://www.youtube.com/watch?v=CwOpd57Y3oc', 'video-views': '14 mil visualizações', 'video-date': 'há 5 meses', 'video-channel': 'Authenti Tech'}, {'video-title': 'NOVO SAMSUNG GALAXY S21 ULTRA! O Samsung MAIS POTENTE DO MUNDO! Peguei e gostei!', 'video-link': 'https://www.youtube.com/watch?v=SmafthvGYL8', 'video-views': '210 mil visualizações', 'video-date': 'há 5 meses', 'video-channel': 'Dudu Rocha'}, {'video-title': 'Galaxy S21 Ultra UNBOXING: o que NÃO TEM na caixa do Galaxy S21 Ultra? - TecMundo', 'video-link': 'https://www.youtube.com/watch?v=AxT8QFktvLg', 'video-views': '48 mil visualizações', 'video-date': 'há 5 meses', 'video-channel': 'TecMundo'}, {'video-title': 'NOVOS GALAXY S21, S21 PLUS e S21 ULTRA em MÃOS! //o que a SAMSUNG NÃO TE CONTOU!', 'video-link': 'https://www.youtube.com/watch?v=m4ZUR6sM9jc', 'video-views': '283 mil visualizações', 'video-date': 'há 5 meses', 'video-channel': 'EscolhaSegura'}, {'video-title': 'SAMSUNG GALAXY S21 PLUS - vale mais a pena que o S21 e o S21 ULTRA? // Análise ( PÓS UPDATES! )', 'video-link': 'https://www.youtube.com/watch?v=kvn92oHxgvk', 'video-views': '61 mil visualizações', 'video-date': 'há 2 meses', 'video-channel': 'EscolhaSegura'}, {'video-title': 'Xiaomi Mi 10T e 10T Pro, valem a pena ou não? [Análise/Review]', 'video-link': 'https://www.youtube.com/watch?v=mp_aDo-uH6I', 'video-views': '127 mil visualizações', 'video-date': 'há 5 meses', 'video-channel': 'Canaltech'}, {'video-title': 'MELHOR XIAOMI do ANO - Xiaomi MI 10T PRO ANÁLISE [ Review ] COMPLETA !', 'video-link': 'https://www.youtube.com/watch?v=cr3icyK3aWo', 'video-views': '83 mil visualizações', 'video-date': 'há 6 meses', 'video-channel': 'K Tech'}, {'video-title': 'MI 10T PRO: TOP de LINHA XIAOMI com PREÇO de IPHONE | Análise / Review', 'video-link': 'https://www.youtube.com/watch?v=MSqN27wR-gI', 'video-views': '65 mil visualizações', 'video-date': 'há 6 meses', 'video-channel': 'TudoCelular'}, {'video-title': 'Xiaomi Mi 10T Pro: vale a pena comprar? Saiba tudo! Review/Análise!', 'video-link': 'https://www.youtube.com/watch?v=btCMwSjhyLw', 'video-views': '1,5 mil visualizações', 'video-date': 'há 4 meses', 'video-channel': 'Compras Importadas'}, {'video-title': 'XIAOMI MI 10T PRO 5G a Xiaomi criou um MONSTRO !!!', 'video-link': 'https://www.youtube.com/watch?v=7P5zO5s3Mhw', 'video-views': '470 mil visualizações', 'video-date': 'há 8 meses', 'video-channel': 'K Tech'}, {'video-title': 'NOVOS XIAOMI: Mi 10T, Mi 10T PRO e Mi 10T Lite. Mas chegaram recebendo CRÍTICAS!', 'video-link': 'https://www.youtube.com/watch?v=3YZQbBBdtcE', 'video-views': '134 mil visualizações', 'video-date': 'há 9 meses', 'video-channel': 'Gesiel Taveira'}, {'video-title': 'XIAOMI Mi 10T: o MELHOR CUSTO-BENEFÍCIO da família? | Análise / Review', 'video-link': 'https://www.youtube.com/watch?v=q0ekPp71zDg', 'video-views': '39 mil visualizações', 'video-date': 'há 2 meses', 'video-channel': 'TudoCelular'}, {'video-title': 'Xiaomi Mi 10T Pro - review completo em português com ênfase em foto e vídeo!', 'video-link': 'https://www.youtube.com/watch?v=kRb2epUBVMw', 'video-views': '7,7 mil visualizações', 'video-date': 'há 4 meses', 'video-channel': 'Armando Vernaglia Jr'}, {'video-title': 'VALE a pena COMPRAR o XIAOMI MI 10T? / opinião do USUÁRIO MI 10T!', 'video-link': 'https://www.youtube.com/watch?v=_vagb1RMzqk', 'video-views': '24 mil visualizações', 'video-date': 'há 7 meses', 'video-channel': 'André Felipe'}, {'video-title': 'Xiaomi Mi 10T - ME IMPRESSIONOU MUITO! ELE É INCRÍVEL!', 'video-link': 'https://www.youtube.com/watch?v=Zd6qYN6lPKM', 'video-views': '30 mil visualizações', 'video-date': 'há 3 meses', 'video-channel': 'Geek Antenado'}, {'video-title': 'Xiaomi Mi 10T Lite vs 10T vs 10T Pro, qual a diferença? [Comparativo]', 'video-link': 'https://www.youtube.com/watch?v=jEEFK_yX_D4', 'video-views': '46 mil visualizações', 'video-date': 'há 5 meses', 'video-channel': 'Canaltech'}, {'video-title': 'XIAOMI Mi 10T PRO - Cheegooou o LÍDER! Tela 144Hz, Câmera 108MP e faz 597K no ANTUTU!😮', 'video-link': 'https://www.youtube.com/watch?v=X10pBmniVwY', 'video-views': '21 mil visualizações', 'video-date': 'há 8 meses', 'video-channel': 'Ricardo Tex'}, {'video-title': 'TESTAMOS o celular Xiaomi Mi 10T! Vem conferir as novidades!', 'video-link': 'https://www.youtube.com/watch?v=gjHVB0hcsLY', 'video-views': '14 mil visualizações', 'video-date': 'há 8 meses', 'video-channel': 'Atacado Games'}, {'video-title': 'O Mais caro da XIAOMI NO BRASIL, Xiaomi Mi 10T! O que ele tem de especial? É UMA SUPER MÁQUINA!', 'video-link': 'https://www.youtube.com/watch?v=jpWsHf_buf4', 'video-views': '112 mil visualizações', 'video-date': 'há 7 meses', 'video-channel': 'Jersu'}, {'video-title': 'Xiaomi Mi 10T vs Xiaomi Mi 10T Pro', 'video-link': 'https://www.youtube.com/watch?v=314JziqRndE', 'video-views': '291 mil visualizações', 'video-date': 'há 9 meses', 'video-channel': 'Gadgets Compare'}, {'video-title': 'Xiaomi Mi 10T Pro Vs Mi 10T Vs Mi 10T Lite Camera Comparison', 'video-link': 'https://www.youtube.com/watch?v=dJs1FVMibPo&pp=ugMICgJwdBABGAE%3D', 'video-views': '303 mil visualizações', 'video-date': 'há 7 meses', 'video-channel': 'TechTablets'}, {'video-title': 'MI 10T PRO: o novo CELULAR TOP de LINHA BOM e “BARATO” da XIAOMI | Hands-on', 'video-link': 'https://www.youtube.com/watch?v=Jr4Qles5abw', 'video-views': '166 mil visualizações', 'video-date': 'há 9 meses', 'video-channel': 'TudoCelular'}, {'video-title': 'Xiaomi Mi 10T Pro: 108MP CAMERA', 'video-link': 'https://www.youtube.com/watch?v=8_4y_Bb09p8', 'video-views': '201 mil visualizações', 'video-date': 'há 9 meses', 'video-channel': 'Nuno Agonia'}, {'video-title': 'CONHEÇA O XIAOMI MI 10T PRO', 'video-link': 'https://www.youtube.com/watch?v=--nqSI7PYQ8', 'video-views': '1,9 mil visualizações', 'video-date': 'há 2 meses', 'video-channel': 'Compras Paraguai'}, {'video-title': 'NÃO TEM PRA NINGUÉM ! Xiaomi Redmi Note 10 Pro é o MELHOR em CÂMERAS ANÁLISE [ Review ] COMPLETA !', 'video-link': 'https://www.youtube.com/watch?v=uj-U_q44YL0', 'video-views': '109 mil visualizações', 'video-date': 'há 1 mês', 'video-channel': 'K Tech'}, {'video-title': 'Galaxy Z Fold2 5G, o futuro do Galaxy Note 2021 [Análise/Review]', 'video-link': 'https://www.youtube.com/watch?v=RJfqNdJxBQc', 'video-views': '65 mil visualizações', 'video-date': 'há 6 meses', 'video-channel': 'Canaltech'}, {'video-title': 'Samsung Galaxy Z Fold 2 REVIEW: o que ainda pode melhorar?', 'video-link': 'https://www.youtube.com/watch?v=Q4Jtcp1XIgU', 'video-views': '34 mil visualizações', 'video-date': 'há 5 meses', 'video-channel': 'TecMundo'}, {'video-title': 'INCRÍVEL mesmo! Galaxy Z Fold 2 me SURPREENDEU e tem MUITO FUTURO! Análise COMPLETA!', 'video-link': 'https://www.youtube.com/watch?v=7wnurnxXnvc', 'video-views': '15 mil visualizações', 'video-date': 'há 3 meses', 'video-channel': 'Be!Tech'}, {'video-title': 'GALAXY Z FOLD 2 seria PERFEITO se fosse um NOTE 20 ULTRA DOBRÁVEL | Análise / Review', 'video-link': 'https://www.youtube.com/watch?v=v670ftQRKGU', 'video-views': '31 mil visualizações', 'video-date': 'há 6 meses', 'video-channel': 'TudoCelular'}, {'video-title': 'Samsung Galaxy Z Fold 2 - Review Tecnoblog', 'video-link': 'https://www.youtube.com/watch?v=OTG8oATp3sA', 'video-views': '38 mil visualizações', 'video-date': 'há 7 meses', 'video-channel': 'Tecnoblog'}, {'video-title': 'GALAXY Z FOLD 2 | Smartphone Dobrável INCRÍVEL! Análise / Review', 'video-link': 'https://www.youtube.com/watch?v=UbIodVSb8sM', 'video-views': '3,7 mil visualizações', 'video-date': 'há 4 meses', 'video-channel': 'brasiliGEEKS'}, {'video-title': 'GALAXY Z FOLD 2! INCRÍVEL! Não ESPERAVA gostar TANTO assim! SAMSUNG não BRINCOU em SERVIÇO! UNBOXING', 'video-link': 'https://www.youtube.com/watch?v=g1IGvp7kZbM', 'video-views': '186 mil visualizações', 'video-date': 'há 6 meses', 'video-channel': 'Be!Tech'}, {'video-title': 'É MUITO CARO mas É O MAIS TOP! Galaxy Z Fold 2 | o MELHOR que a TECNOLOGIA pode oferecer!', 'video-link': 'https://www.youtube.com/watch?v=Dv6X20t-0WI', 'video-views': '33 mil visualizações', 'video-date': 'há 8 meses', 'video-channel': 'Matheus Kise'}, {'video-title': 'GALAXY Z FOLD 2 5G unboxing // Esse DOBRÁVEL deixou APPLE e XIAOMi no CHINELO', 'video-link': 'https://www.youtube.com/watch?v=U79ZZBh3diE', 'video-views': '41 mil visualizações', 'video-date': 'há 7 meses', 'video-channel': 'EscolhaSegura'}, {'video-title': 'Dobrei o GALAXY Z FOLD 2! Esperei 1 ANO pra pegar ele! Samsung, #unboxing', 'video-link': 'https://www.youtube.com/watch?v=402xfkWG7II', 'video-views': '114 mil visualizações', 'video-date': 'há 9 meses', 'video-channel': 'Dudu Rocha'}, {'video-title': 'GALAXY Z FOLD 2: dobrando MELHOR DO QUE VOCÊ esperava | Hands-on', 'video-link': 'https://www.youtube.com/watch?v=eD2UTJOmgWw', 'video-views': '35 mil visualizações', 'video-date': 'há 7 meses', 'video-channel': 'TudoCelular'}, {'video-title': 'Galaxy Z Fold 2: DESIGN e ESPECIFICAÇÕES!', 'video-link': 'https://www.youtube.com/watch?v=k_6bluK1jwY', 'video-views': '6,3 mil visualizações', 'video-date': 'há 11 meses', 'video-channel': 'Matheus Kise'}, {'video-title': 'Dei ADEUS a APPLE! ESSE aqui é o MAIS COBIÇADO do mundo! Galaxy Z Fold 2 5G | unboxing e comentários', 'video-link': 'https://www.youtube.com/watch?v=6GoPRBN9eQw', 'video-views': '359 mil visualizações', 'video-date': 'há 7 meses', 'video-channel': 'Matheus Kise'}, {'video-title': 'Galaxy Z Fold 2 Review: modelo é o celular mais avançado em anos, mas poucos podem ter', 'video-link': 'https://www.youtube.com/watch?v=-aSkt01ns4g', 'video-views': '15 mil visualizações', 'video-date': 'há 8 meses', 'video-channel': 'UOL'}, {'video-title': 'Samsung galaxy Z fold 2 depois de 7 meses de uso. Será que vale a pena???', 'video-link': 'https://www.youtube.com/watch?v=uAOgnbyeMGY', 'video-views': '720 visualizações', 'video-date': 'há 3 semanas', 'video-channel': 'BV Tech'}, {'video-title': 'DEU RUIM? - Análise do Galaxy Fold', 'video-link': 'https://www.youtube.com/watch?v=HOmscFb6B6A', 'video-views': '3,2 mi de visualizações', 'video-date': 'há 2 anos', 'video-channel': 'Coisa de Nerd'}, {'video-title': 'Galaxy Z Fold 2 análise completa como nunca vista.', 'video-link': 'https://www.youtube.com/watch?v=IayWeZMX4q0', 'video-views': '20 visualizações', 'video-date': 'há 9 meses', 'video-channel': 'BLF TECH'}, {'video-title': 'O QUE o DÁ PRA FAZER com o GALAXY Z FOLD 2?', 'video-link': 'https://www.youtube.com/watch?v=B-q8A0sF_lw', 'video-views': '16 mil visualizações', 'video-date': 'há 7 meses', 'video-channel': 'brasiliGEEKS'}, {'video-title': 'Galaxy Z Fold 2: 5 coisas muito legais sobre o melhor dobrável de 2020 [Hands-on] – TecMundo', 'video-link': 'https://www.youtube.com/watch?v=CBHuNWjDw7o', 'video-views': '17 mil visualizações', 'video-date': 'há 7 meses', 'video-channel': 'TecMundo'}, {'video-title': 'GALAXY Z FOLD 2: HANDS ON!', 'video-link': 'https://www.youtube.com/watch?v=JIhL_3x8U7c', 'video-views': '108 mil visualizações', 'video-date': 'há 8 meses', 'video-channel': 'Loop Infinito'}]\n"
     ]
    }
   ],
   "metadata": {
    "tags": [
     "outputPrepend"
    ]
   }
  },
  {
   "cell_type": "code",
   "execution_count": 213,
   "source": [
    "#dataframe backup\r\n",
    "pd.DataFrame(videos_comments_data).to_csv(\"src/video_links.csv\", index=False)"
   ],
   "outputs": [],
   "metadata": {}
  },
  {
   "cell_type": "code",
   "execution_count": null,
   "source": [],
   "outputs": [],
   "metadata": {}
  }
 ],
 "metadata": {
  "kernelspec": {
   "name": "python3",
   "display_name": "Python 3.8.8 64-bit ('base': conda)"
  },
  "language_info": {
   "codemirror_mode": {
    "name": "ipython",
    "version": 3
   },
   "file_extension": ".py",
   "mimetype": "text/x-python",
   "name": "python",
   "nbconvert_exporter": "python",
   "pygments_lexer": "ipython3",
   "version": "3.8.8"
  },
  "interpreter": {
   "hash": "e049b45738c4749feec37a8215276347ba84459169ad7790684fdcca7413c3f2"
  }
 },
 "nbformat": 4,
 "nbformat_minor": 5
}