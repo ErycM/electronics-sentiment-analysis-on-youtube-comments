{
 "cells": [
  {
   "cell_type": "markdown",
   "source": [
    "# Análise de sentimento - Comentários de produtos eletrônicos do youtube - Armazenamento no Firebase"
   ],
   "metadata": {}
  },
  {
   "cell_type": "code",
   "execution_count": 2,
   "source": [
    "import firebase_admin\r\n",
    "from firebase_admin import credentials\r\n",
    "from firebase_admin import firestore\r\n",
    "from datetime import datetime\r\n",
    "import pandas as pd\r\n",
    "import time\r\n",
    "import numpy as np\r\n",
    "\r\n",
    "cred = credentials.Certificate('bkp/serviceAccountKey.json')\r\n",
    "firebase_admin.initialize_app(cred)\r\n",
    "db = firestore.client()"
   ],
   "outputs": [],
   "metadata": {
    "tags": []
   }
  },
  {
   "cell_type": "code",
   "execution_count": 3,
   "source": [
    "comments_ref = db.collection(u'video-comments-count').document('count')\r\n",
    "docs = comments_ref.get()"
   ],
   "outputs": [],
   "metadata": {}
  },
  {
   "cell_type": "code",
   "execution_count": 4,
   "source": [
    "#print(f'Document data: {str(docs.to_dict())}')\r\n",
    "\r\n",
    "#print(docs.to_dict()['video-comments-count'])\r\n",
    "arr_ids = [] \r\n",
    "arr_counts = []\r\n",
    "\r\n",
    "for comment in docs.to_dict()['video-comments-count'].split(\"|\"):\r\n",
    "    arr_ids.append(str(comment.split(\",\")[0]))\r\n",
    "    arr_counts.append(int(comment.split(\",\")[1]))\r\n",
    "\r\n",
    "dict_to_dataframe = {\r\n",
    "    \"comments_id\": arr_ids,\r\n",
    "    \"comments_count\": arr_counts\r\n",
    "}\r\n",
    "\r\n",
    "df = pd.DataFrame(dict_to_dataframe)"
   ],
   "outputs": [],
   "metadata": {
    "tags": []
   }
  },
  {
   "cell_type": "code",
   "execution_count": 5,
   "source": [
    "now = datetime.now()\r\n",
    "dt_string = now.strftime(\"%d/%m/%Y %H:%M:%S\")"
   ],
   "outputs": [],
   "metadata": {}
  },
  {
   "cell_type": "code",
   "execution_count": 6,
   "source": [
    "comments_report = {\r\n",
    "    \"data\": dt_string,\r\n",
    "    \"comentarios avaliados\": df['comments_count'].loc[df['comments_count'] != 100000].count(),\r\n",
    "    \"comentarios avaliados %\":  df['comments_count'].loc[df['comments_count'] != 100000].count()/df['comments_count'].count()*100,\r\n",
    "}\r\n",
    "\r\n",
    "total_availables = 0\r\n",
    "for values in np.delete(df['comments_count'].unique(),np.where(df['comments_count'].unique() == 100000)):\r\n",
    "    comments_report[\"comentários com \"+str(100000-values)]=df['comments_count'].loc[df['comments_count'] == values].count()\r\n",
    "    total_availables = (100000-values) * df['comments_count'].loc[df['comments_count'] == values].count() + total_availables\r\n",
    "\r\n",
    "\r\n",
    "comments_report['comentarios avaliados totais']=total_availables\r\n",
    "comments_report = pd.DataFrame.from_records([comments_report])\r\n",
    "\r\n",
    "comments_report"
   ],
   "outputs": [
    {
     "output_type": "execute_result",
     "data": {
      "text/plain": [
       "                  data  comentarios avaliados  comentarios avaliados %  \\\n",
       "0  06/09/2021 10:36:01                   4908                    49.08   \n",
       "\n",
       "   comentários com 2  comentários com 3  comentários com 1  comentários com 4  \\\n",
       "0               1142                232               3491                 35   \n",
       "\n",
       "   comentários com 5  comentários com 6  comentarios avaliados totais  \n",
       "0                  7                  1                          6652  "
      ],
      "text/html": [
       "<div>\n",
       "<style scoped>\n",
       "    .dataframe tbody tr th:only-of-type {\n",
       "        vertical-align: middle;\n",
       "    }\n",
       "\n",
       "    .dataframe tbody tr th {\n",
       "        vertical-align: top;\n",
       "    }\n",
       "\n",
       "    .dataframe thead th {\n",
       "        text-align: right;\n",
       "    }\n",
       "</style>\n",
       "<table border=\"1\" class=\"dataframe\">\n",
       "  <thead>\n",
       "    <tr style=\"text-align: right;\">\n",
       "      <th></th>\n",
       "      <th>data</th>\n",
       "      <th>comentarios avaliados</th>\n",
       "      <th>comentarios avaliados %</th>\n",
       "      <th>comentários com 2</th>\n",
       "      <th>comentários com 3</th>\n",
       "      <th>comentários com 1</th>\n",
       "      <th>comentários com 4</th>\n",
       "      <th>comentários com 5</th>\n",
       "      <th>comentários com 6</th>\n",
       "      <th>comentarios avaliados totais</th>\n",
       "    </tr>\n",
       "  </thead>\n",
       "  <tbody>\n",
       "    <tr>\n",
       "      <th>0</th>\n",
       "      <td>06/09/2021 10:36:01</td>\n",
       "      <td>4908</td>\n",
       "      <td>49.08</td>\n",
       "      <td>1142</td>\n",
       "      <td>232</td>\n",
       "      <td>3491</td>\n",
       "      <td>35</td>\n",
       "      <td>7</td>\n",
       "      <td>1</td>\n",
       "      <td>6652</td>\n",
       "    </tr>\n",
       "  </tbody>\n",
       "</table>\n",
       "</div>"
      ]
     },
     "metadata": {},
     "execution_count": 6
    }
   ],
   "metadata": {}
  },
  {
   "cell_type": "code",
   "execution_count": 8,
   "source": [
    "comments_report.to_csv(\"src/comments_site_analysis.csv\")"
   ],
   "outputs": [],
   "metadata": {}
  }
 ],
 "metadata": {
  "kernelspec": {
   "name": "python3",
   "display_name": "Python 3.8.8 64-bit ('base': conda)"
  },
  "language_info": {
   "codemirror_mode": {
    "name": "ipython",
    "version": 3
   },
   "file_extension": ".py",
   "mimetype": "text/x-python",
   "name": "python",
   "nbconvert_exporter": "python",
   "pygments_lexer": "ipython3",
   "version": "3.8.8"
  },
  "interpreter": {
   "hash": "e049b45738c4749feec37a8215276347ba84459169ad7790684fdcca7413c3f2"
  }
 },
 "nbformat": 4,
 "nbformat_minor": 5
}