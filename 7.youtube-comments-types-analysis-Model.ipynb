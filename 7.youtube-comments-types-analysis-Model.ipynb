{
 "cells": [
  {
   "cell_type": "markdown",
   "source": [
    "# Análise de sentimento - Comentários de produtos eletrônicos do youtube - Armazenamento no Firebase"
   ],
   "metadata": {}
  },
  {
   "cell_type": "code",
   "execution_count": 41,
   "source": [
    "from datetime import datetime\r\n",
    "import pandas as pd\r\n",
    "import time\r\n",
    "import numpy as np\r\n",
    "import matplotlib.pyplot as plt\r\n",
    "\r\n",
    "\r\n",
    "import stop_words\r\n",
    "from sklearn.feature_extraction.text import CountVectorizer, TfidfTransformer\r\n",
    "from sklearn.model_selection import train_test_split, GridSearchCV, KFold\r\n",
    "from sklearn.naive_bayes import MultinomialNB\r\n",
    "from sklearn.svm import SVC, LinearSVC\r\n",
    "from sklearn.metrics import accuracy_score\r\n",
    "from sklearn.preprocessing import LabelEncoder\r\n",
    "from sklearn.datasets import make_classification\r\n",
    "from scikitplot.metrics import plot_confusion_matrix\r\n",
    "from sklearn.metrics import classification_report\r\n",
    "\r\n",
    "\r\n",
    "\r\n",
    "import imblearn\r\n",
    "from collections import Counter\r\n",
    "from sklearn.datasets import make_classification\r\n",
    "from imblearn.over_sampling import SMOTE\r\n",
    "from imblearn.under_sampling import RandomUnderSampler\r\n",
    "from imblearn.pipeline import Pipeline\r\n",
    "from matplotlib import pyplot\r\n",
    "from numpy import where\r\n",
    "\r\n",
    "\r\n",
    "from imblearn.over_sampling import RandomOverSampler\r\n",
    "from imblearn.over_sampling import SMOTE \r\n",
    "# from imblearn.over_sampling import SMOTENC\r\n",
    "# from imblearn.over_sampling import SMOTEN\r\n",
    "from imblearn.over_sampling import ADASYN \r\n",
    "from imblearn.over_sampling import BorderlineSMOTE\r\n",
    "from imblearn.over_sampling import KMeansSMOTE\r\n",
    "from imblearn.over_sampling import SVMSMOTE \r\n",
    "\r\n",
    "import warnings\r\n",
    "warnings.filterwarnings('ignore')"
   ],
   "outputs": [],
   "metadata": {
    "tags": []
   }
  },
  {
   "cell_type": "code",
   "execution_count": 42,
   "source": [
    "df = pd.read_csv('video_comments_final_types.csv')\r\n",
    "#video_comments = video_comments.T.reset_index().rename(columns={'index': 'comments_id'})"
   ],
   "outputs": [],
   "metadata": {}
  },
  {
   "cell_type": "markdown",
   "source": [
    "#  Data Transform"
   ],
   "metadata": {}
  },
  {
   "cell_type": "code",
   "execution_count": 43,
   "source": [
    "import string\r\n",
    "df['transformed_comment'] = [doc.lower() for doc in df['comment']]"
   ],
   "outputs": [],
   "metadata": {}
  },
  {
   "cell_type": "code",
   "execution_count": 44,
   "source": [
    "df['transformed_comment'] = df['comment'].str.normalize(\"NFKD\").str.encode(\"ascii\", errors=\"ignore\").str.decode(\"utf8\")"
   ],
   "outputs": [],
   "metadata": {}
  },
  {
   "cell_type": "code",
   "execution_count": 45,
   "source": [
    "import re\r\n",
    "import string\r\n",
    "regex = re.compile('[%s]' % re.escape(string.punctuation)) #see documentation here: http://docs.python.org/2/library/string.html\r\n",
    "\r\n",
    "tokenized_docs_no_punctuation = []\r\n",
    "\r\n",
    "for review in df['transformed_comment']:\r\n",
    "    # new_review = []\r\n",
    "    new_review = \"\"\r\n",
    "    for token in review:\r\n",
    "        new_token = regex.sub(u'', token)\r\n",
    "        if not new_token == u'':\r\n",
    "            #new_review.append(new_token)\r\n",
    "            new_review = new_review + new_token\r\n",
    "        else:\r\n",
    "            new_review = new_review + \" \"\r\n",
    "    \r\n",
    "    tokenized_docs_no_punctuation.append(new_review)"
   ],
   "outputs": [],
   "metadata": {}
  },
  {
   "cell_type": "code",
   "execution_count": 46,
   "source": [
    "# #!pip install git+git://github.com/snowballstem/pystemmer\r\n",
    "\r\n",
    "import Stemmer\r\n",
    "stemmer = Stemmer.Stemmer('portuguese')\r\n",
    "\r\n",
    "stemmer_docs = []\r\n",
    "for phrase in tokenized_docs_no_punctuation:\r\n",
    "    stemmer_docs.append(' '.join(stemmer.stemWords(phrase.split(\" \"))))\r\n",
    "    # stemmer_docs.append(stemmer.stemWords(phrase.split(\" \")))\r\n"
   ],
   "outputs": [],
   "metadata": {}
  },
  {
   "cell_type": "code",
   "execution_count": 47,
   "source": [
    "df['transformed_comment'] = stemmer_docs"
   ],
   "outputs": [],
   "metadata": {}
  },
  {
   "cell_type": "code",
   "execution_count": 48,
   "source": [
    "pd.set_option('display.max_columns', None)\r\n",
    "pd.set_option('display.expand_frame_repr', False)\r\n",
    "pd.set_option('max_colwidth', -1)"
   ],
   "outputs": [],
   "metadata": {}
  },
  {
   "cell_type": "code",
   "execution_count": 49,
   "source": [
    "df[['transformed_comment','comment']]"
   ],
   "outputs": [
    {
     "output_type": "execute_result",
     "data": {
      "text/plain": [
       "                                                                                                                                      transformed_comment                                                                                                                                                                              comment\n",
       "0     Uma porc  Compr faz 3 mes  Muit arrepend  Bug o temp tod  Tem que reinic par volt a funcion  Nao recom  Vai ser prejuiz e decepca par quem compr     Uma porcaria. Comprei faz 3 meses. Muito arrependida. Buga o tempo todo. Tem que reiniciar para voltar a funcionar. Não recomendo. Vai ser prejuízo e decepção para quem comprar...\n",
       "1     Assist com o meu a51 e agor estou quer o s21 kkkkkkk                                                                                                 Assistindo com o meu a51 e agora estou querendo o s21 kkkkkkk                                                                                                                      \n",
       "2     Bom eu tenh problem e com poeir agu e qued                                                                                                           Bom eu tenho problemas e com poeira água e queda                                                                                                                                   \n",
       "3     Se no Samsung vier os emoj do iPhon eu me rend  por enquant no xaiom que e mais barat KKKKKKK                                                        Se no Samsung vier os emoji do iPhone eu me rendo 🙇‍♀️🙇‍♀️🙇‍♀️ por enquanto no xaiomi que é mais barato KKKKKKK                                                                    \n",
       "4     Smartphon gam muit excelentent msm  mas fiqu muit desapont pq n vei o fon e nem a plac de vid q promet                                               Smartphone gamer muito excelentente msm, mas fiquei muito desapontado pq n veio o fone e nem a placa de video q prometia                                                           \n",
       "...                                                                                                      ...                                                                                                                                                                    ...                                                           \n",
       "4827  Entrad em cim   n gost   Gost de entrad embaix  Roch Dudu 2020    Brinks Dudu sou seu fa                                                             Entrada em cima , n gosto ! Gosto de entrada embaixo😏. Rocha Dudu 2020!!!;Brinks Dudu 😂😂sou seu fã.                                                                                \n",
       "4828  Sempr quis diz isso     assist do meu a71 Prat   ele e tud de bom                                                                                    Sempre quis dizer isso.... assistindo do meu a71 Prata 🥰😁  ele é tudo de bom ..                                                                                                    \n",
       "4829  To doid pra ganh o meu mot g9 play                                                                                                                   To doido pra ganhar o meu moto g9 play                                                                                                                                             \n",
       "4830  Mi 10t pro ou mi 10 pro                                                                                                                              Mi 10t pro ou mi 10 pro?                                                                                                                                                           \n",
       "4831  Pen q ele n pod amostr os prec  No Googl  so tem loj de usad e uma q tem o prec de R 880                                                             Pena q ele ñ pode amostrar os preços!;No Google, só tem lojas de usados e uma q tem o preço de R$880😂😂😂😂                                                                           \n",
       "\n",
       "[4832 rows x 2 columns]"
      ],
      "text/html": [
       "<div>\n",
       "<style scoped>\n",
       "    .dataframe tbody tr th:only-of-type {\n",
       "        vertical-align: middle;\n",
       "    }\n",
       "\n",
       "    .dataframe tbody tr th {\n",
       "        vertical-align: top;\n",
       "    }\n",
       "\n",
       "    .dataframe thead th {\n",
       "        text-align: right;\n",
       "    }\n",
       "</style>\n",
       "<table border=\"1\" class=\"dataframe\">\n",
       "  <thead>\n",
       "    <tr style=\"text-align: right;\">\n",
       "      <th></th>\n",
       "      <th>transformed_comment</th>\n",
       "      <th>comment</th>\n",
       "    </tr>\n",
       "  </thead>\n",
       "  <tbody>\n",
       "    <tr>\n",
       "      <th>0</th>\n",
       "      <td>Uma porc  Compr faz 3 mes  Muit arrepend  Bug o temp tod  Tem que reinic par volt a funcion  Nao recom  Vai ser prejuiz e decepca par quem compr</td>\n",
       "      <td>Uma porcaria. Comprei faz 3 meses. Muito arrependida. Buga o tempo todo. Tem que reiniciar para voltar a funcionar. Não recomendo. Vai ser prejuízo e decepção para quem comprar...</td>\n",
       "    </tr>\n",
       "    <tr>\n",
       "      <th>1</th>\n",
       "      <td>Assist com o meu a51 e agor estou quer o s21 kkkkkkk</td>\n",
       "      <td>Assistindo com o meu a51 e agora estou querendo o s21 kkkkkkk</td>\n",
       "    </tr>\n",
       "    <tr>\n",
       "      <th>2</th>\n",
       "      <td>Bom eu tenh problem e com poeir agu e qued</td>\n",
       "      <td>Bom eu tenho problemas e com poeira água e queda</td>\n",
       "    </tr>\n",
       "    <tr>\n",
       "      <th>3</th>\n",
       "      <td>Se no Samsung vier os emoj do iPhon eu me rend  por enquant no xaiom que e mais barat KKKKKKK</td>\n",
       "      <td>Se no Samsung vier os emoji do iPhone eu me rendo 🙇‍♀️🙇‍♀️🙇‍♀️ por enquanto no xaiomi que é mais barato KKKKKKK</td>\n",
       "    </tr>\n",
       "    <tr>\n",
       "      <th>4</th>\n",
       "      <td>Smartphon gam muit excelentent msm  mas fiqu muit desapont pq n vei o fon e nem a plac de vid q promet</td>\n",
       "      <td>Smartphone gamer muito excelentente msm, mas fiquei muito desapontado pq n veio o fone e nem a placa de video q prometia</td>\n",
       "    </tr>\n",
       "    <tr>\n",
       "      <th>...</th>\n",
       "      <td>...</td>\n",
       "      <td>...</td>\n",
       "    </tr>\n",
       "    <tr>\n",
       "      <th>4827</th>\n",
       "      <td>Entrad em cim   n gost   Gost de entrad embaix  Roch Dudu 2020    Brinks Dudu sou seu fa</td>\n",
       "      <td>Entrada em cima , n gosto ! Gosto de entrada embaixo😏. Rocha Dudu 2020!!!;Brinks Dudu 😂😂sou seu fã.</td>\n",
       "    </tr>\n",
       "    <tr>\n",
       "      <th>4828</th>\n",
       "      <td>Sempr quis diz isso     assist do meu a71 Prat   ele e tud de bom</td>\n",
       "      <td>Sempre quis dizer isso.... assistindo do meu a71 Prata 🥰😁  ele é tudo de bom ..</td>\n",
       "    </tr>\n",
       "    <tr>\n",
       "      <th>4829</th>\n",
       "      <td>To doid pra ganh o meu mot g9 play</td>\n",
       "      <td>To doido pra ganhar o meu moto g9 play</td>\n",
       "    </tr>\n",
       "    <tr>\n",
       "      <th>4830</th>\n",
       "      <td>Mi 10t pro ou mi 10 pro</td>\n",
       "      <td>Mi 10t pro ou mi 10 pro?</td>\n",
       "    </tr>\n",
       "    <tr>\n",
       "      <th>4831</th>\n",
       "      <td>Pen q ele n pod amostr os prec  No Googl  so tem loj de usad e uma q tem o prec de R 880</td>\n",
       "      <td>Pena q ele ñ pode amostrar os preços!;No Google, só tem lojas de usados e uma q tem o preço de R$880😂😂😂😂</td>\n",
       "    </tr>\n",
       "  </tbody>\n",
       "</table>\n",
       "<p>4832 rows × 2 columns</p>\n",
       "</div>"
      ]
     },
     "metadata": {},
     "execution_count": 49
    }
   ],
   "metadata": {}
  },
  {
   "cell_type": "markdown",
   "source": [
    "# Imbalance Apply"
   ],
   "metadata": {}
  },
  {
   "cell_type": "code",
   "execution_count": 50,
   "source": [
    "def overSamplDef(X_res, y_res, overMethod):\r\n",
    "    from collections import Counter\r\n",
    "    from imblearn.over_sampling import RandomOverSampler\r\n",
    "    from imblearn.over_sampling import SMOTE \r\n",
    "    # from imblearn.over_sampling import SMOTENC\r\n",
    "    from imblearn.over_sampling import SMOTEN\r\n",
    "    from imblearn.over_sampling import ADASYN \r\n",
    "    from imblearn.over_sampling import BorderlineSMOTE\r\n",
    "    from imblearn.over_sampling import KMeansSMOTE\r\n",
    "    from imblearn.over_sampling import SVMSMOTE \r\n",
    "    \r\n",
    "\r\n",
    "    print('Before dataset shape %s' % sorted(Counter(y_res).items()))\r\n",
    "    ros = overMethod()\r\n",
    "    # ros = BorderlineSMOTE()\r\n",
    "    # sampling_strategy='minority'\r\n",
    "    # ros = SMOTE()\r\n",
    "    X_res, y_res = ros.fit_resample(X_res, y_res)\r\n",
    "\r\n",
    "    print('Resampled dataset shape %s' % sorted(Counter(y_res).items()))\r\n",
    "    print(\"-------------------------------------------\")\r\n",
    "\r\n",
    "\r\n",
    "    return X_res, y_res"
   ],
   "outputs": [],
   "metadata": {}
  },
  {
   "cell_type": "markdown",
   "source": [
    "# Create Features"
   ],
   "metadata": {}
  },
  {
   "cell_type": "code",
   "execution_count": 51,
   "source": [
    "# required_columns = 'comment'\r\n",
    "required_columns = 'transformed_comment'\r\n",
    "le = LabelEncoder()\r\n",
    "\r\n",
    "X = df[required_columns]\r\n",
    "y = le.fit_transform(df['final_type'])"
   ],
   "outputs": [],
   "metadata": {}
  },
  {
   "cell_type": "code",
   "execution_count": 52,
   "source": [
    "count_vec = CountVectorizer()\r\n",
    "X_counts = count_vec.fit_transform(X)\r\n",
    "# count_vec_ngram = CountVectorizer(ngram_range=(2, 2))\r\n",
    "count_vec_ngram = CountVectorizer(ngram_range=(2, 2), vocabulary=count_vec.vocabulary_)\r\n",
    "\r\n",
    "#count_vec = CountVectorizer(vocabulary=count_vec.vocabulary_)\r\n",
    "X_counts_bigram = count_vec_ngram.fit_transform(X)\r\n",
    "#X_counts_bigram = count_vec_ngram.transform(X)\r\n",
    "\r\n",
    "tf = TfidfTransformer(use_idf=False, norm=\"l1\")\r\n",
    "X_freq = tf.fit_transform(X_counts)\r\n",
    "\r\n",
    "tf = TfidfTransformer(norm=\"l1\")\r\n",
    "X_tfidf = tf.fit_transform(X_counts)"
   ],
   "outputs": [],
   "metadata": {}
  },
  {
   "cell_type": "code",
   "execution_count": 68,
   "source": [
    "X"
   ],
   "outputs": [
    {
     "output_type": "execute_result",
     "data": {
      "text/plain": [
       "0       Uma porc  Compr faz 3 mes  Muit arrepend  Bug o temp tod  Tem que reinic par volt a funcion  Nao recom  Vai ser prejuiz e decepca par quem compr   \n",
       "1       Assist com o meu a51 e agor estou quer o s21 kkkkkkk                                                                                               \n",
       "2       Bom eu tenh problem e com poeir agu e qued                                                                                                         \n",
       "3       Se no Samsung vier os emoj do iPhon eu me rend  por enquant no xaiom que e mais barat KKKKKKK                                                      \n",
       "4       Smartphon gam muit excelentent msm  mas fiqu muit desapont pq n vei o fon e nem a plac de vid q promet                                             \n",
       "                                                         ...                                                                                               \n",
       "4827    Entrad em cim   n gost   Gost de entrad embaix  Roch Dudu 2020    Brinks Dudu sou seu fa                                                           \n",
       "4828    Sempr quis diz isso     assist do meu a71 Prat   ele e tud de bom                                                                                  \n",
       "4829    To doid pra ganh o meu mot g9 play                                                                                                                 \n",
       "4830    Mi 10t pro ou mi 10 pro                                                                                                                            \n",
       "4831    Pen q ele n pod amostr os prec  No Googl  so tem loj de usad e uma q tem o prec de R 880                                                           \n",
       "Name: transformed_comment, Length: 4832, dtype: object"
      ]
     },
     "metadata": {},
     "execution_count": 68
    }
   ],
   "metadata": {}
  },
  {
   "cell_type": "code",
   "execution_count": 53,
   "source": [
    "# X_train_counts, X_test_counts, y_train_counts, y_test_counts = train_test_split(X_counts, y, test_size=.2)\r\n",
    "# X_train_bigram, X_test_bigram, y_train_bigram, y_test_bigram = train_test_split(X_counts_bigram, y, test_size=.2)\r\n",
    "X_train_freq, X_test_freq, y_train_freq, y_test_freq = train_test_split(X_freq, y, test_size=.2)\r\n",
    "# X_train_tfidf, X_test_tfidf, y_train_tfidf, y_test_tfidf = train_test_split(X_tfidf, y, test_size=.2)"
   ],
   "outputs": [],
   "metadata": {}
  },
  {
   "cell_type": "code",
   "execution_count": 54,
   "source": [
    "# X_train_counts, y_train_counts = overSamplDef(X_train_counts, y_train_counts, SMOTE) #SMOTE or RandomOverSampler | BorderlineSMOTE (pior)\r\n",
    "# X_train_bigram, y_train_bigram = overSamplDef(X_train_bigram, y_train_bigram, BorderlineSMOTE) #ADASYN (resultado ruim) | BorderlineSMOTE (mal distribuido)\r\n",
    "X_train_freq, y_train_freq = overSamplDef(X_train_freq, y_train_freq, SMOTE) #RandomOverSampler or SMOTE | SVMSMOTE or RandomOverSampler\r\n",
    "# X_train_tfidf, y_train_tfidf = overSamplDef(X_train_tfidf, y_train_tfidf, SMOTE) #SMOTE | SMOTE"
   ],
   "outputs": [
    {
     "output_type": "stream",
     "name": "stdout",
     "text": [
      "Before dataset shape [(0, 190), (1, 1282), (2, 2393)]\n",
      "Resampled dataset shape [(0, 2393), (1, 2393), (2, 2393)]\n",
      "-------------------------------------------\n"
     ]
    }
   ],
   "metadata": {}
  },
  {
   "cell_type": "markdown",
   "source": [
    "# Training Model"
   ],
   "metadata": {}
  },
  {
   "cell_type": "code",
   "execution_count": 55,
   "source": [
    "# mNB = MultinomialNB()\r\n",
    "\r\n",
    "# clf_counts = mNB.fit(X_train_counts, y_train_counts)\r\n",
    "# clf_bigram = mNB.fit(X_train_bigram, y_train_bigram)\r\n",
    "# clf_freq = mNB.fit(X_train_freq, y_train_freq)\r\n",
    "\r\n",
    "# mNB1 = MultinomialNB()\r\n",
    "\r\n",
    "# clf_tfidf = mNB.fit(X_train_tfidf, y_train_tfidf)"
   ],
   "outputs": [],
   "metadata": {}
  },
  {
   "cell_type": "code",
   "execution_count": 56,
   "source": [
    "# y_pred_counts = clf_counts.predict(X_test_counts)\r\n",
    "# y_pred_bigram = clf_bigram.predict(X_test_bigram)\r\n",
    "# y_pred_freq = clf_freq.predict(X_test_freq)\r\n",
    "# y_pred_tfidf = clf_tfidf.predict(X_test_tfidf)"
   ],
   "outputs": [],
   "metadata": {}
  },
  {
   "cell_type": "code",
   "execution_count": 57,
   "source": [
    "# param_grid = [\r\n",
    "#   {'C': [1, 10, 100, 1000]}\r\n",
    "#  ]\r\n",
    "# svc = LinearSVC()\r\n",
    "# # clf_counts = GridSearchCV(svc, param_grid).fit(X_train_counts, y_train_counts)\r\n",
    "# # clf_bigram = GridSearchCV(svc, param_grid).fit(X_train_bigram, y_train_bigram)\r\n",
    "# clf_freq = GridSearchCV(svc, param_grid).fit(X_train_freq, y_train_freq)\r\n",
    "# # clf_tfidf = GridSearchCV(svc, param_grid).fit(X_train_tfidf, y_train_tfidf)\r\n",
    "# svm_y_pred_freq = clf_freq.predict(X_test_freq)\r\n",
    "\r\n",
    "from sklearn.pipeline import make_pipeline\r\n",
    "from sklearn.preprocessing import StandardScaler\r\n",
    "from sklearn.svm import SVC\r\n",
    "from sklearn.ensemble import AdaBoostClassifier\r\n",
    "\r\n",
    "# clf_freq = make_pipeline(StandardScaler(with_mean=False), SVC(gamma='auto', C=10000))\r\n",
    "clf_freq = AdaBoostClassifier()\r\n",
    "clf_freq.fit(X_train_freq, y_train_freq)\r\n",
    "\r\n",
    "svm_y_pred_freq = clf_freq.predict(X_test_freq)\r\n"
   ],
   "outputs": [],
   "metadata": {}
  },
  {
   "cell_type": "markdown",
   "source": [],
   "metadata": {}
  },
  {
   "cell_type": "code",
   "execution_count": 58,
   "source": [
    "# svm_y_pred_counts = clf_counts.predict(X_test_counts)\r\n",
    "# svm_y_pred_bigram = clf_bigram.predict(X_test_bigram)\r\n",
    "\r\n",
    "# svm_y_pred_tfidf = clf_tfidf.predict(X_test_tfidf)\r\n",
    "\r\n"
   ],
   "outputs": [],
   "metadata": {}
  },
  {
   "cell_type": "markdown",
   "source": [
    "# Check Accuracy"
   ],
   "metadata": {}
  },
  {
   "cell_type": "code",
   "execution_count": 59,
   "source": [
    "target_names = ['Negativo', 'Neutro', 'Positivo']\r\n",
    "\r\n",
    "# print(\"MNB - Acuracia de counts\")\r\n",
    "# print(classification_report(y_test_counts, y_pred_counts, target_names=target_names))\r\n",
    "# print(\"-----------------------------------------------------\")\r\n",
    "# print(\"MNB - Acuracia de bigram\")\r\n",
    "# print(classification_report(y_test_bigram, y_pred_bigram, target_names=target_names))\r\n",
    "# print(\"-----------------------------------------------------\")\r\n",
    "# print(\"MNB - Acuracia de freq\")\r\n",
    "# print(classification_report(y_test_freq, y_pred_freq, target_names=target_names))\r\n",
    "# print(\"-----------------------------------------------------\")\r\n",
    "# print(\"MNB - Acuracia de tfidf\")\r\n",
    "# print(classification_report(y_test_tfidf, y_pred_tfidf, target_names=target_names))\r\n",
    "# print(\"-----------------------------------------------------\")\r\n",
    "\r\n",
    "# print(\"SVM - Acuracia de counts\")\r\n",
    "# print(classification_report(y_test_counts, svm_y_pred_counts, target_names=target_names))\r\n",
    "# print(\"-----------------------------------------------------\")\r\n",
    "# print(\"SVM - Acuracia de bigram\")\r\n",
    "# print(classification_report(y_test_bigram, svm_y_pred_bigram, target_names=target_names))\r\n",
    "print(\"-----------------------------------------------------\")\r\n",
    "print(\"SVM - Acuracia de freq\")\r\n",
    "print(classification_report(y_test_freq, svm_y_pred_freq, target_names=target_names))\r\n",
    "# print(\"-----------------------------------------------------\")\r\n",
    "# print(\"SVM - Acuracia de tfidf\")\r\n",
    "# print(classification_report(y_test_tfidf, svm_y_pred_tfidf, target_names=target_names))\r\n",
    "\r\n",
    "# print(\"-----------------------------------------------------\")"
   ],
   "outputs": [
    {
     "output_type": "stream",
     "name": "stdout",
     "text": [
      "-----------------------------------------------------\n",
      "SVM - Acuracia de freq\n",
      "              precision    recall  f1-score   support\n",
      "\n",
      "    Negativo       0.15      0.15      0.15        46\n",
      "      Neutro       0.29      0.12      0.17       296\n",
      "    Positivo       0.64      0.82      0.72       625\n",
      "\n",
      "    accuracy                           0.57       967\n",
      "   macro avg       0.36      0.36      0.35       967\n",
      "weighted avg       0.51      0.57      0.52       967\n",
      "\n"
     ]
    }
   ],
   "metadata": {}
  },
  {
   "cell_type": "code",
   "execution_count": 60,
   "source": [
    "import matplotlib.pyplot as plt\r\n",
    "\r\n",
    "# disp = plot_confusion_matrix(y_test_counts, y_pred_counts)\r\n",
    "# disp.set_title('MNB - counts')\r\n",
    "# disp = plot_confusion_matrix(y_test_bigram, y_pred_bigram)\r\n",
    "# disp.set_title('MNB - bigram')\r\n",
    "# disp = plot_confusion_matrix(y_test_freq, y_pred_freq)\r\n",
    "# disp.set_title('MNB - freq')\r\n",
    "# disp = plot_confusion_matrix(y_test_tfidf, y_pred_tfidf)\r\n",
    "# disp.set_title('MNB - tfidf')\r\n",
    "\r\n",
    "# disp = plot_confusion_matrix(y_test_counts, svm_y_pred_counts)\r\n",
    "# disp.set_title('SVM - counts')\r\n",
    "# disp = plot_confusion_matrix(y_test_bigram, svm_y_pred_bigram)\r\n",
    "# disp.set_title('SVM - bigram')\r\n",
    "disp = plot_confusion_matrix(y_test_freq, svm_y_pred_freq)\r\n",
    "disp.set_title('SVM - freq')\r\n",
    "# disp = plot_confusion_matrix(y_test_tfidf, svm_y_pred_tfidf)\r\n",
    "# disp.set_title('SVM - tfidf')\r\n",
    "\r\n",
    "\r\n",
    "plt.show()"
   ],
   "outputs": [
    {
     "output_type": "display_data",
     "data": {
      "text/plain": [
       "<Figure size 432x288 with 2 Axes>"
      ],
      "image/png": "[encoded data removed]"
     },
     "metadata": {
      "needs_background": "light"
     }
    }
   ],
   "metadata": {}
  }
 ],
 "metadata": {
  "kernelspec": {
   "name": "python3",
   "display_name": "Python 3.8.8 64-bit ('base': conda)"
  },
  "language_info": {
   "codemirror_mode": {
    "name": "ipython",
    "version": 3
   },
   "file_extension": ".py",
   "mimetype": "text/x-python",
   "name": "python",
   "nbconvert_exporter": "python",
   "pygments_lexer": "ipython3",
   "version": "3.8.8"
  },
  "interpreter": {
   "hash": "e049b45738c4749feec37a8215276347ba84459169ad7790684fdcca7413c3f2"
  }
 },
 "nbformat": 4,
 "nbformat_minor": 5
}